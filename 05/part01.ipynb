{
 "cells": [
  {
   "cell_type": "code",
   "execution_count": 1,
   "id": "da73b569-0158-40b1-9e9e-52a2c77a0175",
   "metadata": {
    "execution": {
     "iopub.execute_input": "2023-12-05T16:54:05.089257Z",
     "iopub.status.busy": "2023-12-05T16:54:05.087644Z",
     "iopub.status.idle": "2023-12-05T16:54:06.884913Z",
     "shell.execute_reply": "2023-12-05T16:54:06.881551Z",
     "shell.execute_reply.started": "2023-12-05T16:54:05.089199Z"
    },
    "tags": []
   },
   "outputs": [],
   "source": [
    "import os\n",
    "import re\n",
    "\n",
    "import numpy as np\n",
    "import pandas as pd"
   ]
  },
  {
   "cell_type": "code",
   "execution_count": 2,
   "id": "e621e2df-45e4-40ec-87fd-77414f0316ba",
   "metadata": {
    "execution": {
     "iopub.execute_input": "2023-12-05T16:54:06.942775Z",
     "iopub.status.busy": "2023-12-05T16:54:06.913139Z",
     "iopub.status.idle": "2023-12-05T16:54:07.163178Z",
     "shell.execute_reply": "2023-12-05T16:54:07.160013Z",
     "shell.execute_reply.started": "2023-12-05T16:54:06.942717Z"
    },
    "tags": []
   },
   "outputs": [
    {
     "data": {
      "text/html": [
       "<div>\n",
       "<style scoped>\n",
       "    .dataframe tbody tr th:only-of-type {\n",
       "        vertical-align: middle;\n",
       "    }\n",
       "\n",
       "    .dataframe tbody tr th {\n",
       "        vertical-align: top;\n",
       "    }\n",
       "\n",
       "    .dataframe thead th {\n",
       "        text-align: right;\n",
       "    }\n",
       "</style>\n",
       "<table border=\"1\" class=\"dataframe\">\n",
       "  <thead>\n",
       "    <tr style=\"text-align: right;\">\n",
       "      <th></th>\n",
       "    </tr>\n",
       "  </thead>\n",
       "  <tbody>\n",
       "  </tbody>\n",
       "</table>\n",
       "</div>"
      ],
      "text/plain": [
       "Empty DataFrame\n",
       "Columns: []\n",
       "Index: []"
      ]
     },
     "execution_count": 2,
     "metadata": {},
     "output_type": "execute_result"
    }
   ],
   "source": [
    "seed = pd.read_csv(\"data/1-seeds.csv\", sep=' ', header=None)\n",
    "seed\n",
    "\n",
    "df = pd.DataFrame()\n",
    "pd.concat([df, pd.DataFrame(range(seed.iloc[0,0], seed.iloc[0,1]))])\n",
    "df\n",
    "pd.DataFrame(range(seed.iloc[0,0], seed.iloc[0,1]))"
   ]
  },
  {
   "cell_type": "code",
   "execution_count": null,
   "id": "0327ddec-3cd1-495b-96ae-e90380b45cc1",
   "metadata": {
    "execution": {
     "iopub.execute_input": "2023-12-05T16:54:09.534575Z",
     "iopub.status.busy": "2023-12-05T16:54:09.533731Z"
    },
    "tags": []
   },
   "outputs": [],
   "source": [
    "\n"
   ]
  },
  {
   "cell_type": "code",
   "execution_count": 258,
   "id": "d2409f75-dc76-457d-9a4e-720da612fdfc",
   "metadata": {
    "execution": {
     "iopub.execute_input": "2023-12-05T16:15:22.503990Z",
     "iopub.status.busy": "2023-12-05T16:15:22.503559Z",
     "iopub.status.idle": "2023-12-05T16:15:22.764819Z",
     "shell.execute_reply": "2023-12-05T16:15:22.763076Z",
     "shell.execute_reply.started": "2023-12-05T16:15:22.503955Z"
    },
    "tags": []
   },
   "outputs": [],
   "source": [
    "# fitting = dfs[0][(dfs[0][\"src\"] <= seed) & (seed <= dfs[0][\"src\"] + dfs[0][\"rng\"])]\n",
    "# res = fitting[\"dst\"] + seed - fitting[\"src\"]\n",
    "\n",
    "\n",
    "def find_mapping(src_val, mapping):\n",
    "    fitting = mapping[\n",
    "        (mapping[\"src\"] <= src_val) & (src_val < mapping[\"src\"] + mapping[\"rng\"])\n",
    "    ]\n",
    "    res = src_val - fitting[\"src\"] + fitting[\"dst\"]\n",
    "    return src_val if res.empty else res.reset_index(drop=True)[0]\n",
    "\n",
    "\n",
    "for i in range(len(dfs)):\n",
    "    seed[seed.columns[i + 1]] = seed[seed.columns[i]].apply(\n",
    "        find_mapping, args=(dfs[i],)\n",
    "    )\n",
    "    "
   ]
  },
  {
   "cell_type": "code",
   "execution_count": 260,
   "id": "5c371e77-3e4b-494c-9ae4-37856a616637",
   "metadata": {
    "execution": {
     "iopub.execute_input": "2023-12-05T16:15:34.233755Z",
     "iopub.status.busy": "2023-12-05T16:15:34.222040Z",
     "iopub.status.idle": "2023-12-05T16:15:34.336172Z",
     "shell.execute_reply": "2023-12-05T16:15:34.299871Z",
     "shell.execute_reply.started": "2023-12-05T16:15:34.233710Z"
    },
    "tags": []
   },
   "outputs": [],
   "source": [
    "file_names = sorted(os.listdir(\"data\"))[1:]\n",
    "\n",
    "seed_column_names = [re.search(r\"(.*-){3}(\\w+)\", name).group(2) for name in file_names]\n",
    "\n",
    "seed_column_names = [\"seed\"] + seed_column_names\n",
    "\n",
    "\n",
    "dfs = []\n",
    "    for file in file_names:\n",
    "        df = pd.read_csv(f\"data/{file}\", names=(\"dst\", \"src\", \"rng\"), sep=\" \")\n",
    "        df.name = re.search(r\"^[^ ]*\", file).group()\n",
    "        dfs.append(df)\n",
    "\n",
    "for i in range(len(seed)):\n",
    "\n",
    "    pd.DataFrame(range(seed.iloc[i,0], seed.iloc[i,0] + seed.iloc[i,1])))\n",
    "    \n",
    "    \n",
    "    seed = pd.read_csv(\"data/1-seeds.csv\", names=seed_column_names)\n",
    "\n",
    "    \n",
    "\n",
    "    min_value.append(seed[\"location\"].min())"
   ]
  }
 ],
 "metadata": {
  "kernelspec": {
   "display_name": "Advent of Code 2023",
   "language": "python",
   "name": "aoc"
  },
  "language_info": {
   "codemirror_mode": {
    "name": "ipython",
    "version": 3
   },
   "file_extension": ".py",
   "mimetype": "text/x-python",
   "name": "python",
   "nbconvert_exporter": "python",
   "pygments_lexer": "ipython3",
   "version": "3.11.5"
  }
 },
 "nbformat": 4,
 "nbformat_minor": 5
}
