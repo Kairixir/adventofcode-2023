{
 "cells": [
  {
   "cell_type": "code",
   "execution_count": 1,
   "id": "da73b569-0158-40b1-9e9e-52a2c77a0175",
   "metadata": {
    "execution": {
     "iopub.execute_input": "2023-12-05T19:54:14.634408Z",
     "iopub.status.busy": "2023-12-05T19:54:14.633373Z",
     "iopub.status.idle": "2023-12-05T19:54:16.129938Z",
     "shell.execute_reply": "2023-12-05T19:54:16.128709Z",
     "shell.execute_reply.started": "2023-12-05T19:54:14.634354Z"
    },
    "tags": []
   },
   "outputs": [],
   "source": [
    "import os\n",
    "import re\n",
    "\n",
    "import numpy as np\n",
    "import pandas as pd"
   ]
  },
  {
   "cell_type": "code",
   "execution_count": 2,
   "id": "d2409f75-dc76-457d-9a4e-720da612fdfc",
   "metadata": {
    "execution": {
     "iopub.execute_input": "2023-12-05T19:54:18.411588Z",
     "iopub.status.busy": "2023-12-05T19:54:18.409709Z",
     "iopub.status.idle": "2023-12-05T19:54:18.460065Z",
     "shell.execute_reply": "2023-12-05T19:54:18.458301Z",
     "shell.execute_reply.started": "2023-12-05T19:54:18.411545Z"
    },
    "tags": []
   },
   "outputs": [],
   "source": [
    "# fitting = dfs[0][(dfs[0][\"src\"] <= seed) & (seed <= dfs[0][\"src\"] + dfs[0][\"rng\"])]\n",
    "# res = fitting[\"dst\"] + seed - fitting[\"src\"]\n",
    "\n",
    "file_names = sorted(os.listdir(\"data\"))[1:]\n",
    "\n",
    "seed_column_names = [re.search(r\"(.*-){3}(\\w+)\", name).group(2) for name in file_names]\n",
    "\n",
    "# Get various mappings\n",
    "dfs = []\n",
    "for file in file_names:\n",
    "    df = pd.read_csv(f\"data/{file}\", names=(\"dst\", \"src\", \"rng\"), sep=\" \")\n",
    "    df.name = re.search(r\"^[^ ]*\", file).group()\n",
    "    dfs.append(df)\n",
    "\n",
    "seed_column_names = [\"seed\"] + seed_column_names\n",
    "\n",
    "seed = pd.read_csv(\"data/1-seeds.csv\", sep=\" \", header=None, names=seed_column_names)\n",
    "\n",
    "\n",
    "def find_mapping(src_val, mapping):\n",
    "    fitting = mapping[\n",
    "        (mapping[\"src\"] <= src_val) & (src_val < mapping[\"src\"] + mapping[\"rng\"])\n",
    "    ]\n",
    "    # print(mapping)\n",
    "    # print(src_val)\n",
    "    # print(fitting)\n",
    "    res = src_val - fitting[\"src\"] + fitting[\"dst\"]\n",
    "    return src_val if res.empty else res.reset_index(drop=True)[0]"
   ]
  },
  {
   "cell_type": "code",
   "execution_count": 3,
   "id": "d4a9f872-384f-4b6a-be8e-9e77f419230b",
   "metadata": {
    "execution": {
     "iopub.execute_input": "2023-12-05T19:54:23.486172Z",
     "iopub.status.busy": "2023-12-05T19:54:23.485392Z",
     "iopub.status.idle": "2023-12-05T19:54:23.699122Z",
     "shell.execute_reply": "2023-12-05T19:54:23.697485Z",
     "shell.execute_reply.started": "2023-12-05T19:54:23.486123Z"
    },
    "tags": []
   },
   "outputs": [
    {
     "data": {
      "text/html": [
       "<div>\n",
       "<style scoped>\n",
       "    .dataframe tbody tr th:only-of-type {\n",
       "        vertical-align: middle;\n",
       "    }\n",
       "\n",
       "    .dataframe tbody tr th {\n",
       "        vertical-align: top;\n",
       "    }\n",
       "\n",
       "    .dataframe thead th {\n",
       "        text-align: right;\n",
       "    }\n",
       "</style>\n",
       "<table border=\"1\" class=\"dataframe\">\n",
       "  <thead>\n",
       "    <tr style=\"text-align: right;\">\n",
       "      <th></th>\n",
       "      <th>seed</th>\n",
       "      <th>soil</th>\n",
       "      <th>fertilizer</th>\n",
       "      <th>water</th>\n",
       "      <th>light</th>\n",
       "      <th>temperature</th>\n",
       "      <th>humidity</th>\n",
       "      <th>location</th>\n",
       "    </tr>\n",
       "  </thead>\n",
       "  <tbody>\n",
       "    <tr>\n",
       "      <th>0</th>\n",
       "      <td>104847962</td>\n",
       "      <td>638456097</td>\n",
       "      <td>534117463</td>\n",
       "      <td>651982595</td>\n",
       "      <td>3982774908</td>\n",
       "      <td>3982774908</td>\n",
       "      <td>4283162641</td>\n",
       "      <td>4283162641</td>\n",
       "    </tr>\n",
       "    <tr>\n",
       "      <th>1</th>\n",
       "      <td>1212568077</td>\n",
       "      <td>235532501</td>\n",
       "      <td>131193867</td>\n",
       "      <td>887760781</td>\n",
       "      <td>3441510965</td>\n",
       "      <td>1720850774</td>\n",
       "      <td>1936555017</td>\n",
       "      <td>1838498110</td>\n",
       "    </tr>\n",
       "    <tr>\n",
       "      <th>2</th>\n",
       "      <td>3890048781</td>\n",
       "      <td>2469591604</td>\n",
       "      <td>2469591604</td>\n",
       "      <td>3787846375</td>\n",
       "      <td>2884874210</td>\n",
       "      <td>3867529169</td>\n",
       "      <td>4167916902</td>\n",
       "      <td>1191329316</td>\n",
       "    </tr>\n",
       "    <tr>\n",
       "      <th>3</th>\n",
       "      <td>1520059863</td>\n",
       "      <td>2954179983</td>\n",
       "      <td>3469062691</td>\n",
       "      <td>2906830052</td>\n",
       "      <td>656217636</td>\n",
       "      <td>730688908</td>\n",
       "      <td>657834936</td>\n",
       "      <td>2322923652</td>\n",
       "    </tr>\n",
       "    <tr>\n",
       "      <th>4</th>\n",
       "      <td>310308287</td>\n",
       "      <td>843916422</td>\n",
       "      <td>739577788</td>\n",
       "      <td>1009777124</td>\n",
       "      <td>733208466</td>\n",
       "      <td>807679738</td>\n",
       "      <td>2054471866</td>\n",
       "      <td>3191770485</td>\n",
       "    </tr>\n",
       "    <tr>\n",
       "      <th>5</th>\n",
       "      <td>3492562455</td>\n",
       "      <td>3947557175</td>\n",
       "      <td>3854335256</td>\n",
       "      <td>1978106847</td>\n",
       "      <td>4255771485</td>\n",
       "      <td>4286815724</td>\n",
       "      <td>2614004927</td>\n",
       "      <td>3300444838</td>\n",
       "    </tr>\n",
       "    <tr>\n",
       "      <th>6</th>\n",
       "      <td>1901414562</td>\n",
       "      <td>3335534682</td>\n",
       "      <td>3115051797</td>\n",
       "      <td>1532034748</td>\n",
       "      <td>314636284</td>\n",
       "      <td>417389099</td>\n",
       "      <td>1400031420</td>\n",
       "      <td>3124756470</td>\n",
       "    </tr>\n",
       "    <tr>\n",
       "      <th>7</th>\n",
       "      <td>2474299950</td>\n",
       "      <td>1488258798</td>\n",
       "      <td>1481400162</td>\n",
       "      <td>3421966547</td>\n",
       "      <td>1133046171</td>\n",
       "      <td>1890784901</td>\n",
       "      <td>1674770862</td>\n",
       "      <td>3455603946</td>\n",
       "    </tr>\n",
       "    <tr>\n",
       "      <th>8</th>\n",
       "      <td>3394639029</td>\n",
       "      <td>3849633749</td>\n",
       "      <td>3756411830</td>\n",
       "      <td>2265712560</td>\n",
       "      <td>1835663583</td>\n",
       "      <td>2253429197</td>\n",
       "      <td>259197691</td>\n",
       "      <td>749391108</td>\n",
       "    </tr>\n",
       "    <tr>\n",
       "      <th>9</th>\n",
       "      <td>862612782</td>\n",
       "      <td>437477884</td>\n",
       "      <td>333139250</td>\n",
       "      <td>451004382</td>\n",
       "      <td>3251092485</td>\n",
       "      <td>1773591398</td>\n",
       "      <td>1989295641</td>\n",
       "      <td>1891238734</td>\n",
       "    </tr>\n",
       "  </tbody>\n",
       "</table>\n",
       "</div>"
      ],
      "text/plain": [
       "         seed        soil  fertilizer       water       light  temperature  \\\n",
       "0   104847962   638456097   534117463   651982595  3982774908   3982774908   \n",
       "1  1212568077   235532501   131193867   887760781  3441510965   1720850774   \n",
       "2  3890048781  2469591604  2469591604  3787846375  2884874210   3867529169   \n",
       "3  1520059863  2954179983  3469062691  2906830052   656217636    730688908   \n",
       "4   310308287   843916422   739577788  1009777124   733208466    807679738   \n",
       "5  3492562455  3947557175  3854335256  1978106847  4255771485   4286815724   \n",
       "6  1901414562  3335534682  3115051797  1532034748   314636284    417389099   \n",
       "7  2474299950  1488258798  1481400162  3421966547  1133046171   1890784901   \n",
       "8  3394639029  3849633749  3756411830  2265712560  1835663583   2253429197   \n",
       "9   862612782   437477884   333139250   451004382  3251092485   1773591398   \n",
       "\n",
       "     humidity    location  \n",
       "0  4283162641  4283162641  \n",
       "1  1936555017  1838498110  \n",
       "2  4167916902  1191329316  \n",
       "3   657834936  2322923652  \n",
       "4  2054471866  3191770485  \n",
       "5  2614004927  3300444838  \n",
       "6  1400031420  3124756470  \n",
       "7  1674770862  3455603946  \n",
       "8   259197691   749391108  \n",
       "9  1989295641  1891238734  "
      ]
     },
     "execution_count": 3,
     "metadata": {},
     "output_type": "execute_result"
    }
   ],
   "source": [
    "for i in range(len(dfs)):\n",
    "    seed[seed_column_names[i + 1]] = seed[seed_column_names[i]].apply(\n",
    "        find_mapping, args=(dfs[i],)\n",
    "    )\n",
    "seed"
   ]
  },
  {
   "cell_type": "markdown",
   "id": "ae6f3af5-4030-441a-8b6a-a13968611410",
   "metadata": {},
   "source": [
    "## Part 2\n",
    "It's a bit of a hack, but it works well.\n",
    "I am searching ranges from the lowest location values and inverse them through the mapping to seed number. Then I check if the seed number is within my range. Brute-force, yes, but if the values are randomly spread, it should---and does---work quite nicely."
   ]
  },
  {
   "cell_type": "code",
   "execution_count": 28,
   "id": "8ad16e2f-9182-45f4-a0a3-0b797be0fe05",
   "metadata": {
    "execution": {
     "iopub.execute_input": "2023-12-05T20:03:58.279171Z",
     "iopub.status.busy": "2023-12-05T20:03:58.278604Z",
     "iopub.status.idle": "2023-12-05T20:03:58.298180Z",
     "shell.execute_reply": "2023-12-05T20:03:58.295993Z",
     "shell.execute_reply.started": "2023-12-05T20:03:58.279134Z"
    },
    "tags": []
   },
   "outputs": [
    {
     "data": {
      "text/html": [
       "<div>\n",
       "<style scoped>\n",
       "    .dataframe tbody tr th:only-of-type {\n",
       "        vertical-align: middle;\n",
       "    }\n",
       "\n",
       "    .dataframe tbody tr th {\n",
       "        vertical-align: top;\n",
       "    }\n",
       "\n",
       "    .dataframe thead th {\n",
       "        text-align: right;\n",
       "    }\n",
       "</style>\n",
       "<table border=\"1\" class=\"dataframe\">\n",
       "  <thead>\n",
       "    <tr style=\"text-align: right;\">\n",
       "      <th></th>\n",
       "      <th>low</th>\n",
       "      <th>rng</th>\n",
       "    </tr>\n",
       "  </thead>\n",
       "  <tbody>\n",
       "    <tr>\n",
       "      <th>0</th>\n",
       "      <td>104847962</td>\n",
       "      <td>3583832</td>\n",
       "    </tr>\n",
       "    <tr>\n",
       "      <th>1</th>\n",
       "      <td>1212568077</td>\n",
       "      <td>114894281</td>\n",
       "    </tr>\n",
       "    <tr>\n",
       "      <th>2</th>\n",
       "      <td>3890048781</td>\n",
       "      <td>333451605</td>\n",
       "    </tr>\n",
       "    <tr>\n",
       "      <th>3</th>\n",
       "      <td>1520059863</td>\n",
       "      <td>217361990</td>\n",
       "    </tr>\n",
       "    <tr>\n",
       "      <th>4</th>\n",
       "      <td>310308287</td>\n",
       "      <td>12785610</td>\n",
       "    </tr>\n",
       "    <tr>\n",
       "      <th>5</th>\n",
       "      <td>3492562455</td>\n",
       "      <td>292968049</td>\n",
       "    </tr>\n",
       "    <tr>\n",
       "      <th>6</th>\n",
       "      <td>1901414562</td>\n",
       "      <td>516150861</td>\n",
       "    </tr>\n",
       "    <tr>\n",
       "      <th>7</th>\n",
       "      <td>2474299950</td>\n",
       "      <td>152867148</td>\n",
       "    </tr>\n",
       "    <tr>\n",
       "      <th>8</th>\n",
       "      <td>3394639029</td>\n",
       "      <td>59690410</td>\n",
       "    </tr>\n",
       "    <tr>\n",
       "      <th>9</th>\n",
       "      <td>862612782</td>\n",
       "      <td>176128197</td>\n",
       "    </tr>\n",
       "  </tbody>\n",
       "</table>\n",
       "</div>"
      ],
      "text/plain": [
       "          low        rng\n",
       "0   104847962    3583832\n",
       "1  1212568077  114894281\n",
       "2  3890048781  333451605\n",
       "3  1520059863  217361990\n",
       "4   310308287   12785610\n",
       "5  3492562455  292968049\n",
       "6  1901414562  516150861\n",
       "7  2474299950  152867148\n",
       "8  3394639029   59690410\n",
       "9   862612782  176128197"
      ]
     },
     "execution_count": 28,
     "metadata": {},
     "output_type": "execute_result"
    }
   ],
   "source": [
    "seeds_ranges = pd.read_csv(\n",
    "    \"data/1-seeds.csv\", sep=\" \", header=None, names=(\"low\", \"rng\")\n",
    ")\n",
    "seeds_ranges"
   ]
  },
  {
   "cell_type": "code",
   "execution_count": 14,
   "id": "7346ec0e-2874-41be-ab15-bddc5230b024",
   "metadata": {
    "execution": {
     "iopub.execute_input": "2023-12-05T19:58:54.542540Z",
     "iopub.status.busy": "2023-12-05T19:58:54.542058Z",
     "iopub.status.idle": "2023-12-05T19:58:54.572286Z",
     "shell.execute_reply": "2023-12-05T19:58:54.568726Z",
     "shell.execute_reply.started": "2023-12-05T19:58:54.542502Z"
    },
    "tags": []
   },
   "outputs": [],
   "source": [
    "def find_mapping_vec(src_val, mapping):\n",
    "    mapping_vect = mapping.values\n",
    "    index = np.where(\n",
    "        (mapping_vect[:, 1] <= src_val)\n",
    "        & (src_val < mapping_vect[:, 1] + mapping_vect[:, 2])\n",
    "    )\n",
    "    fitted_vec = mapping_vect[index]\n",
    "    if fitted_vec.shape[0] == 0:\n",
    "        return src_val\n",
    "    res = src_val - fitted_vec[0][1] + fitted_vec[0][0]\n",
    "    return res\n",
    "\n",
    "\n",
    "def find_mapping_inverse_vec(dst_val, mapping):\n",
    "    mapping_vect = mapping.values\n",
    "    index = np.where(\n",
    "        (mapping_vect[:, 0] <= dst_val)\n",
    "        & (dst_val < mapping_vect[:, 0] + mapping_vect[:, 2])\n",
    "    )\n",
    "    fitted_vec = mapping_vect[index]\n",
    "    if fitted_vec.shape[0] == 0:\n",
    "        return dst_val\n",
    "    res = dst_val - fitted_vec[0][0] + fitted_vec[0][1]\n",
    "    return res"
   ]
  },
  {
   "cell_type": "code",
   "execution_count": 29,
   "id": "4901947f-46b3-48d1-9ef3-0ef5e45ee200",
   "metadata": {
    "execution": {
     "iopub.execute_input": "2023-12-05T20:04:43.911225Z",
     "iopub.status.busy": "2023-12-05T20:04:43.908945Z",
     "iopub.status.idle": "2023-12-05T20:04:43.970258Z",
     "shell.execute_reply": "2023-12-05T20:04:43.963609Z",
     "shell.execute_reply.started": "2023-12-05T20:04:43.911183Z"
    },
    "tags": []
   },
   "outputs": [],
   "source": [
    "seeds_ranges[\"max\"] = seeds_ranges[\"low\"] + seeds_ranges[\"rng\"]"
   ]
  },
  {
   "cell_type": "code",
   "execution_count": 62,
   "id": "5e0c9e9c-67da-440d-bad2-9bb66abc843f",
   "metadata": {
    "execution": {
     "iopub.execute_input": "2023-12-05T20:27:53.748255Z",
     "iopub.status.busy": "2023-12-05T20:27:53.744034Z",
     "iopub.status.idle": "2023-12-05T20:31:54.760523Z",
     "shell.execute_reply": "2023-12-05T20:31:54.759420Z",
     "shell.execute_reply.started": "2023-12-05T20:27:53.748197Z"
    },
    "tags": []
   },
   "outputs": [
    {
     "name": "stdout",
     "output_type": "stream",
     "text": [
      "Running range 1000000, 1100000\n",
      "Running range 1100000, 1200000\n",
      "Running range 1200000, 1300000\n",
      "Running range 1300000, 1400000\n",
      "Running range 1400000, 1500000\n",
      "Running range 1500000, 1600000\n",
      "Running range 1600000, 1700000\n",
      "Running range 1700000, 1800000\n",
      "Running range 1800000, 1900000\n",
      "Running range 1900000, 2000000\n",
      "Running range 2000000, 2100000\n",
      "2243422640\n"
     ]
    }
   ],
   "source": [
    "foundit = False\n",
    "for j in range(10, 50):\n",
    "    print(f\"Running range {100000*j}, {100000*(j+1)}\")\n",
    "    locat = pd.DataFrame(range(100000 * j, 100000 * (j + 1)), columns=(\"location\",))\n",
    "    locat\n",
    "\n",
    "    locat_column_names = seed_column_names[::-1]\n",
    "    for i in range(len(dfs)):\n",
    "        locat[locat_column_names[i + 1]] = locat[locat_column_names[i]].apply(\n",
    "            find_mapping_inverse_vec, args=(dfs[-(i + 1)],)\n",
    "        )\n",
    "\n",
    "    seeds_ranges_vec = seeds_ranges.values\n",
    "\n",
    "    for seed in locat[\"seed\"]:\n",
    "        if (\n",
    "            np.where(\n",
    "                (seeds_ranges_vec[:, 0] <= seed) & (seed < seeds_ranges_vec[:, 2])\n",
    "            )[0].size\n",
    "            != 0\n",
    "        ):\n",
    "            print(seed)\n",
    "            foundit = True\n",
    "            break\n",
    "\n",
    "    if foundit:\n",
    "        break"
   ]
  },
  {
   "cell_type": "code",
   "execution_count": 64,
   "id": "c9a4acb8-da66-4ad6-92fd-2250b1d05678",
   "metadata": {
    "execution": {
     "iopub.execute_input": "2023-12-05T20:35:06.661400Z",
     "iopub.status.busy": "2023-12-05T20:35:06.660433Z",
     "iopub.status.idle": "2023-12-05T20:35:06.756656Z",
     "shell.execute_reply": "2023-12-05T20:35:06.744854Z",
     "shell.execute_reply.started": "2023-12-05T20:35:06.661340Z"
    },
    "tags": []
   },
   "outputs": [
    {
     "data": {
      "text/html": [
       "<div>\n",
       "<style scoped>\n",
       "    .dataframe tbody tr th:only-of-type {\n",
       "        vertical-align: middle;\n",
       "    }\n",
       "\n",
       "    .dataframe tbody tr th {\n",
       "        vertical-align: top;\n",
       "    }\n",
       "\n",
       "    .dataframe thead th {\n",
       "        text-align: right;\n",
       "    }\n",
       "</style>\n",
       "<table border=\"1\" class=\"dataframe\">\n",
       "  <thead>\n",
       "    <tr style=\"text-align: right;\">\n",
       "      <th></th>\n",
       "      <th>seed</th>\n",
       "      <th>soil</th>\n",
       "      <th>fertilizer</th>\n",
       "      <th>water</th>\n",
       "      <th>light</th>\n",
       "      <th>temperature</th>\n",
       "      <th>humidity</th>\n",
       "      <th>location</th>\n",
       "    </tr>\n",
       "  </thead>\n",
       "  <tbody>\n",
       "    <tr>\n",
       "      <th>0</th>\n",
       "      <td>2243422640</td>\n",
       "      <td>2222566796</td>\n",
       "      <td>1421598213</td>\n",
       "      <td>3362164598</td>\n",
       "      <td>1073244222</td>\n",
       "      <td>2942497292</td>\n",
       "      <td>2986998165</td>\n",
       "      <td>2008785</td>\n",
       "    </tr>\n",
       "  </tbody>\n",
       "</table>\n",
       "</div>"
      ],
      "text/plain": [
       "         seed        soil  fertilizer       water       light  temperature  \\\n",
       "0  2243422640  2222566796  1421598213  3362164598  1073244222   2942497292   \n",
       "\n",
       "     humidity  location  \n",
       "0  2986998165   2008785  "
      ]
     },
     "execution_count": 64,
     "metadata": {},
     "output_type": "execute_result"
    }
   ],
   "source": [
    "part2_seed = pd.DataFrame([2243422640], columns=(\"seed\",))\n",
    "                          \n",
    "for i in range(len(dfs)):\n",
    "    part2_seed[seed_column_names[i + 1]] = part2_seed[seed_column_names[i]].apply(\n",
    "        find_mapping, args=(dfs[i],)\n",
    "    )\n",
    "part2_seed"
   ]
  },
  {
   "cell_type": "markdown",
   "id": "dc17722a-e3d5-4ae5-8516-3f2f23c559ec",
   "metadata": {},
   "source": [
    "## Attemp for full table of seeds (unsuccesful)"
   ]
  },
  {
   "cell_type": "code",
   "execution_count": 17,
   "id": "dbb439ad-30bb-4d99-af34-a0b83ef22503",
   "metadata": {
    "execution": {
     "iopub.execute_input": "2023-12-05T19:44:47.643446Z",
     "iopub.status.busy": "2023-12-05T19:44:47.636122Z",
     "iopub.status.idle": "2023-12-05T19:44:47.774573Z",
     "shell.execute_reply": "2023-12-05T19:44:47.751252Z",
     "shell.execute_reply.started": "2023-12-05T19:44:47.643388Z"
    },
    "tags": []
   },
   "outputs": [
    {
     "ename": "IndexError",
     "evalue": "index 2 is out of bounds for axis 0 with size 2",
     "output_type": "error",
     "traceback": [
      "\u001b[0;31m---------------------------------------------------------------------------\u001b[0m",
      "\u001b[0;31mIndexError\u001b[0m                                Traceback (most recent call last)",
      "Cell \u001b[0;32mIn[17], line 30\u001b[0m\n\u001b[1;32m     27\u001b[0m df_vect \u001b[38;5;241m=\u001b[39m dfs[\u001b[38;5;241m0\u001b[39m]\n\u001b[1;32m     28\u001b[0m mapping_vect \u001b[38;5;241m=\u001b[39m df_vect\u001b[38;5;241m.\u001b[39mvalues\n\u001b[1;32m     29\u001b[0m index \u001b[38;5;241m=\u001b[39m np\u001b[38;5;241m.\u001b[39mwhere(\n\u001b[0;32m---> 30\u001b[0m     (mapping_vect[\u001b[38;5;241m1\u001b[39m] \u001b[38;5;241m<\u001b[39m\u001b[38;5;241m=\u001b[39m src_val) \u001b[38;5;241m&\u001b[39m (src_val \u001b[38;5;241m<\u001b[39m mapping_vect[\u001b[38;5;241m1\u001b[39m] \u001b[38;5;241m+\u001b[39m \u001b[43mmapping_vect\u001b[49m\u001b[43m[\u001b[49m\u001b[38;5;241;43m2\u001b[39;49m\u001b[43m]\u001b[49m)\n\u001b[1;32m     31\u001b[0m )\n\u001b[1;32m     32\u001b[0m fitted_vec \u001b[38;5;241m=\u001b[39m mapping_vect[index][\u001b[38;5;241m0\u001b[39m]\n\u001b[1;32m     33\u001b[0m fitted_vec\n",
      "\u001b[0;31mIndexError\u001b[0m: index 2 is out of bounds for axis 0 with size 2"
     ]
    }
   ],
   "source": [
    "# src_val = 533608135\n",
    "# dst_val = 1067216283\n",
    "# df_vect = dfs[0]\n",
    "# mapping_vect = df_vect.values\n",
    "# index = np.where(\n",
    "#     (mapping_vect[1] <= src_val) & (src_val < mapping_vect[1] + mapping_vect[2])\n",
    "# )\n",
    "# fitted_vec = mapping_vect[index][0]\n",
    "# fitted_vec\n",
    "# res = src_val - fitted_vec[1] + fitted_vec[0]\n",
    "# res\n",
    "\n",
    "# find_mapping(src_val, dfs[0])\n",
    "# #find_mapping_inverse_vec(dst_val, dfs[0])\n",
    "# #dfs[0]"
   ]
  },
  {
   "cell_type": "code",
   "execution_count": null,
   "id": "6c543223-4e6c-4803-ae8a-5b019db1f233",
   "metadata": {
    "tags": []
   },
   "outputs": [],
   "source": [
    "seed = pd.DataFrame(\n",
    "    range(0, 2),\n",
    "    columns=(seed_column_names[-1],),\n",
    ")\n",
    "seed"
   ]
  },
  {
   "cell_type": "code",
   "execution_count": null,
   "id": "5324111b-d663-4f3c-8b8b-a9c558f7600f",
   "metadata": {
    "tags": []
   },
   "outputs": [],
   "source": [
    "seed[seed_column_names[-1]].apply(find_mapping_inverse_vec, args=(dfs[-1],))"
   ]
  },
  {
   "cell_type": "code",
   "execution_count": null,
   "id": "50a11068-6582-4ce9-a605-92201cee1e31",
   "metadata": {
    "tags": []
   },
   "outputs": [],
   "source": [
    "min_values = []\n",
    "\n",
    "\n",
    "print(f\"running series {1}\")\n",
    "for j in range(len(dfs)):\n",
    "    # print(seed_column_names[-(j + 2)])\n",
    "    # print(seed_column_names[-(j + 1)])\n",
    "    # print(dfs[-(j+1)].name)\n",
    "    seed[seed_column_names[-(j + 2)]] = seed[seed_column_names[-(j + 1)]].apply(\n",
    "        find_mapping_inverse_vec, args=(dfs[-(j + 1)],)\n",
    "    )\n",
    "    print(f\"finished dfs mapping {len(dfs)-j}\")\n",
    "\n",
    "seed"
   ]
  },
  {
   "cell_type": "code",
   "execution_count": null,
   "id": "c3c4f0ad-3e4f-4376-bc8d-93ab5af33282",
   "metadata": {
    "tags": []
   },
   "outputs": [],
   "source": [
    "seed"
   ]
  },
  {
   "cell_type": "code",
   "execution_count": null,
   "id": "43c16321-8b80-4bdc-8f2a-20990eb2da96",
   "metadata": {
    "tags": []
   },
   "outputs": [],
   "source": [
    "seed[seed_column_names[0]].apply(\n",
    "    find_mapping_vec,\n",
    "    args=(dfs[0],),\n",
    ")"
   ]
  },
  {
   "cell_type": "code",
   "execution_count": null,
   "id": "5c371e77-3e4b-494c-9ae4-37856a616637",
   "metadata": {
    "tags": []
   },
   "outputs": [],
   "source": [
    "min_values = []\n",
    "\n",
    "for i in range(len(seed_ranges)):\n",
    "    seed = pd.DataFrame(\n",
    "        range(seed_ranges.iloc[i, 0], seed_ranges.iloc[i, 0] + seed_ranges.iloc[i, 1]),\n",
    "        columns=(seed_column_names[0],),\n",
    "    )\n",
    "    print(f\"running series {i}\")\n",
    "    for j in range(len(dfs)):\n",
    "        seed[seed_column_names[j + 1]] = seed[seed_column_names[j]].apply(\n",
    "            find_mapping, args=(dfs[j],)\n",
    "        )\n",
    "        print(f\"finished dfs mapping {j}\")\n",
    "\n",
    "    min_values.append(seed[\"location\"].min())\n",
    "    del seed"
   ]
  },
  {
   "cell_type": "code",
   "execution_count": null,
   "id": "bb0fd62c-eab0-4118-8c09-8881d825d3da",
   "metadata": {
    "tags": []
   },
   "outputs": [],
   "source": [
    "min_values"
   ]
  }
 ],
 "metadata": {
  "kernelspec": {
   "display_name": "Advent of Code 2023",
   "language": "python",
   "name": "aoc"
  },
  "language_info": {
   "codemirror_mode": {
    "name": "ipython",
    "version": 3
   },
   "file_extension": ".py",
   "mimetype": "text/x-python",
   "name": "python",
   "nbconvert_exporter": "python",
   "pygments_lexer": "ipython3",
   "version": "3.11.5"
  }
 },
 "nbformat": 4,
 "nbformat_minor": 5
}
