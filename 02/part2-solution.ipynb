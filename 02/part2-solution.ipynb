{
 "cells": [
  {
   "cell_type": "code",
   "execution_count": 1,
   "id": "ca42826d-8adb-4f05-b10e-d70a62377933",
   "metadata": {
    "execution": {
     "iopub.execute_input": "2023-12-02T15:54:00.275759Z",
     "iopub.status.busy": "2023-12-02T15:54:00.274796Z",
     "iopub.status.idle": "2023-12-02T15:54:02.030711Z",
     "shell.execute_reply": "2023-12-02T15:54:02.029554Z",
     "shell.execute_reply.started": "2023-12-02T15:54:00.275699Z"
    },
    "tags": []
   },
   "outputs": [],
   "source": [
    "import re\n",
    "\n",
    "import pandas as pd"
   ]
  },
  {
   "cell_type": "code",
   "execution_count": 2,
   "id": "f791b31f-9037-4d6a-845d-dc29a91c45ae",
   "metadata": {
    "execution": {
     "iopub.execute_input": "2023-12-02T15:54:02.033729Z",
     "iopub.status.busy": "2023-12-02T15:54:02.033292Z",
     "iopub.status.idle": "2023-12-02T15:54:02.066812Z",
     "shell.execute_reply": "2023-12-02T15:54:02.049036Z",
     "shell.execute_reply.started": "2023-12-02T15:54:02.033701Z"
    },
    "tags": []
   },
   "outputs": [
    {
     "data": {
      "text/plain": [
       "dict_keys(['a'])"
      ]
     },
     "execution_count": 2,
     "metadata": {},
     "output_type": "execute_result"
    }
   ],
   "source": [
    "tst = {\"a\": 1}\n",
    "tst.keys()"
   ]
  },
  {
   "cell_type": "code",
   "execution_count": 33,
   "id": "7ce0d541-0647-4afd-8941-4ed088fd06e0",
   "metadata": {
    "execution": {
     "iopub.execute_input": "2023-12-02T16:14:23.194612Z",
     "iopub.status.busy": "2023-12-02T16:14:23.192750Z",
     "iopub.status.idle": "2023-12-02T16:14:23.260240Z",
     "shell.execute_reply": "2023-12-02T16:14:23.248448Z",
     "shell.execute_reply.started": "2023-12-02T16:14:23.194374Z"
    },
    "tags": []
   },
   "outputs": [],
   "source": [
    "import operator\n",
    "from functools import reduce\n",
    "\n",
    "\n",
    "class MaxDict:\n",
    "    # Similar to MaxHeap\n",
    "    # It uses dict to store values and remembers only the largest\n",
    "    def __init__(self):\n",
    "        self.max_dict = {\n",
    "            \"red\": 0,\n",
    "            \"green\": 0,\n",
    "            \"blue\": 0,\n",
    "        }\n",
    "\n",
    "    def insert(self, color, value):\n",
    "        # Raise error for unexpected color\n",
    "        if color not in self.max_dict.keys():\n",
    "            raise KeyError(f\"Color {color} not defined\")\n",
    "\n",
    "        # Update value if larger\n",
    "        if self.max_dict[color] < value:\n",
    "            self.max_dict[color] = value\n",
    "\n",
    "    def power_of_set(self):\n",
    "        return reduce(operator.mul, self.max_dict.values(), 1)"
   ]
  },
  {
   "cell_type": "code",
   "execution_count": 49,
   "id": "2c788f70-33fd-4512-83a4-45d3de4d1ac0",
   "metadata": {
    "execution": {
     "iopub.execute_input": "2023-12-02T16:19:10.746160Z",
     "iopub.status.busy": "2023-12-02T16:19:10.745208Z",
     "iopub.status.idle": "2023-12-02T16:19:10.780052Z",
     "shell.execute_reply": "2023-12-02T16:19:10.777266Z",
     "shell.execute_reply.started": "2023-12-02T16:19:10.746048Z"
    },
    "tags": []
   },
   "outputs": [],
   "source": [
    "class Game:\n",
    "    # Putting the MaxDict() instantiation in the __init__ function\n",
    "    # parameter definition causes an interesting issue.\n",
    "    # Somehow the new instantiation of MaxDict() is not executed\n",
    "    # and all the Game objects share the **same** MaxDict object.\n",
    "    # I believe it might have something to do with how Jupyter\n",
    "    # shares scope among multiple cells.\n",
    "    # I think during the instantiation the Game object somehow remembers\n",
    "    # the existence of minimal_set variable and skips the default value\n",
    "    # for the argument set in \n",
    "    def __init__(self, game_num, minimal_set=None):\n",
    "        self.game_num = game_num\n",
    "        self.minimal_set = MaxDict() if minimal_set is None else minimal_set\n",
    "\n",
    "    def add_game_round(self, game_round_string):\n",
    "        # Remove unnecessary spaces\n",
    "        game_round = re.sub(\n",
    "            pattern=r\"(:|;|,) \", repl=r\"\\1\", string=game_round_string\n",
    "        ).strip()\n",
    "        # Split by separate random takes of all cubes\n",
    "        all_random_hands = game_round.split(\";\")\n",
    "        # Separate by single cube take in each hand\n",
    "        random_hands = list(map(lambda s: s.split(\",\"), all_random_hands))\n",
    "        for random_hand in random_hands:\n",
    "            for count_color_take in random_hand:\n",
    "                count, color = count_color_take.split(\" \")\n",
    "                self.minimal_set.insert(color, int(count))\n",
    "\n",
    "    def power_of_set(self):\n",
    "        # Power of set required by AOC\n",
    "        return self.minimal_set.power_of_set()"
   ]
  },
  {
   "cell_type": "code",
   "execution_count": 51,
   "id": "83c89cda-4dc6-4527-ad13-dbfcef01cf70",
   "metadata": {
    "execution": {
     "iopub.execute_input": "2023-12-02T16:19:27.397827Z",
     "iopub.status.busy": "2023-12-02T16:19:27.396884Z",
     "iopub.status.idle": "2023-12-02T16:19:27.491738Z",
     "shell.execute_reply": "2023-12-02T16:19:27.456384Z",
     "shell.execute_reply.started": "2023-12-02T16:19:27.397716Z"
    },
    "tags": []
   },
   "outputs": [],
   "source": [
    "games = []\n",
    "\n",
    "\n",
    "def evaluate_game(line):\n",
    "    game_num, game_round = line.split(\":\")\n",
    "\n",
    "    game_num = int(re.sub(r\"[^0-9]\", \"\", game_num))\n",
    "\n",
    "    game = Game(game_num)\n",
    "    games.append(game)\n",
    "    game.add_game_round(game_round)\n",
    "\n",
    "    return game.power_of_set()\n",
    "\n",
    "\n",
    "with open(\"advent-of-code2-original.txt\", \"r\") as f:\n",
    "    total_sum = 0\n",
    "    for line in f:\n",
    "        game_power_set = evaluate_game(line)\n",
    "        total_sum += game_power_set"
   ]
  },
  {
   "cell_type": "code",
   "execution_count": 22,
   "id": "1b4ad7a5-7aa9-4a60-8403-6573791025d3",
   "metadata": {
    "execution": {
     "iopub.execute_input": "2023-12-02T16:01:48.759001Z",
     "iopub.status.busy": "2023-12-02T16:01:48.757520Z",
     "iopub.status.idle": "2023-12-02T16:01:48.770873Z",
     "shell.execute_reply": "2023-12-02T16:01:48.767827Z",
     "shell.execute_reply.started": "2023-12-02T16:01:48.758956Z"
    },
    "tags": []
   },
   "outputs": [
    {
     "name": "stdout",
     "output_type": "stream",
     "text": [
      "666524\n"
     ]
    }
   ],
   "source": [
    "print(total_sum)"
   ]
  },
  {
   "cell_type": "code",
   "execution_count": null,
   "id": "b2c28f97-2e1d-465b-b200-a5cfce4adff7",
   "metadata": {},
   "outputs": [],
   "source": []
  }
 ],
 "metadata": {
  "kernelspec": {
   "display_name": "Advent of Code 2023",
   "language": "python",
   "name": "aoc"
  },
  "language_info": {
   "codemirror_mode": {
    "name": "ipython",
    "version": 3
   },
   "file_extension": ".py",
   "mimetype": "text/x-python",
   "name": "python",
   "nbconvert_exporter": "python",
   "pygments_lexer": "ipython3",
   "version": "3.11.5"
  }
 },
 "nbformat": 4,
 "nbformat_minor": 5
}
